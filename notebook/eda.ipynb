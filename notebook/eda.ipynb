{
 "cells": [
  {
   "cell_type": "code",
   "execution_count": 1,
   "metadata": {},
   "outputs": [],
   "source": [
    "import re\n",
    "import pandas as pd\n",
    "from bs4 import BeautifulSoup"
   ]
  },
  {
   "cell_type": "code",
   "execution_count": 8,
   "metadata": {},
   "outputs": [
    {
     "name": "stdout",
     "output_type": "stream",
     "text": [
      "<div class=\"contents\"><div><p><a href=\"http://dummy.com\">http://dummy.com<p>In its first year, The Shillito's Elves Display won an international design award for Shillito's department store.  The elves display is arts and crafts at its finest.  The mixed media exhibit displays the talents of local fine arts graduates, and the display, while \"folksy\", is as technologically advanced as Disney World's famous \"It's a Small World\" ride. </p><p>The Shillito's Elves attracted close to 100,000 people each year.  It was one of the most beloved Christmas traditions in Cincinnati.  For many in the Cincinnati area, it is a fond childhood holiday memory and one that they would love to share with their own families.  In the next 40 days, we are asking for your help to make the entire display viewable again for the first time in 25 years.  In order to make this happen, we must meet our financial goal.  </p><p>Your money will be used in the following ways:</p><ul><li>Repair broken animated elves (75 motors need repair)</li><li>Replace faded clothing</li><li>Fix torn faces and \"hairless elves\"</li><li>Construct 3000 feet of staging needed to make the elves viewable</li><li>Prepare backdrops </li><li>Fix lighting in the space</li></ul><p>The money that is earned in which we surpass our goal will be used to keep the Workshop open for longer hours.  In addition, you can use extra family passes that you buy to give to others.   Let's make this a great Christmas. </p><div class=\"template asset\" contenteditable=\"false\" data-alt-text=\"\" data-caption=\"\" data-id=\"_xxx_\"><figure><img alt=\"\" class=\"fit lazyload\" data-src=\"http://dummy.com\"/></figure></div><div class=\"template asset\" contenteditable=\"false\" data-alt-text=\"\" data-caption=\"\" data-id=\"_xxx_\"><figure><img alt=\"\" class=\"fit lazyload\" data-src=\"http://dummy.com\"/></figure></div></div></div>\n"
     ]
    }
   ],
   "source": [
    "df_train = pd.read_csv('../source/Input/raw/train.csv')\n",
    "text = df_train.iloc[0]['html_content']\n",
    "print(text.replace('\\n',''))"
   ]
  },
  {
   "cell_type": "code",
   "execution_count": 7,
   "metadata": {},
   "outputs": [
    {
     "name": "stdout",
     "output_type": "stream",
     "text": [
      "http://dummy.comIn its first year, The Shillito's Elves Display won an international \n",
      "design award for Shillito's department store.  The elves display is arts\n",
      " and crafts at its finest.  The mixed media exhibit displays the talents\n",
      " of local fine arts graduates, and the display, while \"folksy\", is as \n",
      "technologically advanced as Disney World's famous \"It's a Small World\" \n",
      "ride. The Shillito's Elves attracted close to 100,000 people each\n",
      " year.  It was one of the most beloved Christmas traditions in \n",
      "Cincinnati.  For many in the Cincinnati area, it is a fond childhood \n",
      "holiday memory and one that they would love to share with their own \n",
      "families.  In the next 40 days, we are asking for your help to make the \n",
      "entire display viewable again for the first time in 25 years.  In order \n",
      "to make this happen, we must meet our financial goal.  Your money will be used in the following ways:\n",
      "Repair broken animated elves (75 motors need repair)\n",
      "Replace faded clothing\n",
      "Fix torn faces and \"hairless elves\"\n",
      "Construct 3000 feet of staging needed to make the elves viewable\n",
      "Prepare backdrops \n",
      "Fix lighting in the space\n",
      "The money that is earned in which we surpass our goal will be \n",
      "used to keep the Workshop open for longer hours.  In addition, you can \n",
      "use extra family passes that you buy to give to others.   Let's make \n",
      "this a great Christmas. \n",
      "\n",
      "\n",
      "\n",
      "\n",
      "\n",
      "\n",
      "\n",
      "\n",
      "\n",
      "\n"
     ]
    }
   ],
   "source": [
    "pre_text = re.sub('<.+?>', '', text)\n",
    "#print(text)\n",
    "print(pre_text)\n",
    "# html タグ, 記号, url を削除\n",
    "# 多言語だから単語の正規化が難しい"
   ]
  }
 ],
 "metadata": {
  "kernelspec": {
   "display_name": "Python 3.9.2 64-bit",
   "language": "python",
   "name": "python3"
  },
  "language_info": {
   "codemirror_mode": {
    "name": "ipython",
    "version": 3
   },
   "file_extension": ".py",
   "mimetype": "text/x-python",
   "name": "python",
   "nbconvert_exporter": "python",
   "pygments_lexer": "ipython3",
   "version": "3.9.2"
  },
  "orig_nbformat": 4,
  "vscode": {
   "interpreter": {
    "hash": "aee8b7b246df8f9039afb4144a1f6fd8d2ca17a180786b69acc140d282b71a49"
   }
  }
 },
 "nbformat": 4,
 "nbformat_minor": 2
}
